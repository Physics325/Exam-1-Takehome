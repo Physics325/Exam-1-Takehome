{
 "cells": [
  {
   "cell_type": "markdown",
   "metadata": {},
   "source": [
    "# Duffing Oscillator\n",
    "The duffing oscillator is governed by the following DE:\n",
    "$$\\ddot x + \\delta \\dot x + \\alpha x + \\beta x^3 = \\gamma \\cos(\\omega t)$$\n",
    "\n",
    "For the takehome exam you will explore the behavior of the Duffing Oscillator for a range of parameters.\n",
    "\n",
    "1. Comparing to the DE for the Driven Damped Pendulum, explain what each term represents.\n",
    "\n",
    "2. Show how to get the coupled first order DE's that are equivalent to this 2nd order DE.  What are the variables in your system?\n",
    "\n",
    "3. Write the derivs function to implement your first order DE's.\n",
    "\n",
    "4. Start with $\\alpha=-1, \\beta=+1$, and $\\omega = 1.4$. Demonstrate that your solution code is working properly by selectivley turning off terms and plotting the results. In each case, summarize how the results are consistent with your expectations. Note that the drive frequency is not $2\\pi$ as it was for the DPP.  You still need to have an integer number of data points per drive period.  You'll need to come up with code to ensure this, while also allowing you to adjust the temperal resolution (the number of points used to simulate each drive period) and the total time (or number of periods) the simulation runs for.\n",
    "\n",
    "5. To explore the chaotic behavior of the Duffing Oscilator, use the following parameter values: $\\alpha=-1, \\beta=+1$, $\\omega = 1.4, \\delta=0.1$, and $x[0]=0, v[0]=1$. Explore $\\gamma$ values in the range 0.1 to 0.5 and characterize the periodic behavior of the oscillator.  Illustrate each distinct region side-by-side plots: on the left showing x vs t and the values of x at intervals of the drive period.  On the right show a phase plot and the poincare section.\n",
    "\n",
    "7. Make a bifurcation plot for this range of $\\gamma$.\n",
    "\n",
    "Make sure all plots are well-labeled, with meaningful legends and titles where appropriate.  Use Markdown formated cells to describe the broad steps you are taking and your conclusions."
   ]
  },
  {
   "cell_type": "code",
   "execution_count": null,
   "metadata": {
    "collapsed": true
   },
   "outputs": [],
   "source": []
  }
 ],
 "metadata": {
  "kernelspec": {
   "display_name": "Python 3",
   "language": "python",
   "name": "python3"
  },
  "language_info": {
   "codemirror_mode": {
    "name": "ipython",
    "version": 3
   },
   "file_extension": ".py",
   "mimetype": "text/x-python",
   "name": "python",
   "nbconvert_exporter": "python",
   "pygments_lexer": "ipython3",
   "version": "3.5.1"
  }
 },
 "nbformat": 4,
 "nbformat_minor": 0
}
